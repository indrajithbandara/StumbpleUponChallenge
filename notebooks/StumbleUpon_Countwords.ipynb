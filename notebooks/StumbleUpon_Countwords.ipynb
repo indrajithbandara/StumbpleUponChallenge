{
 "cells": [
  {
   "cell_type": "code",
   "execution_count": 1,
   "metadata": {
    "collapsed": true
   },
   "outputs": [],
   "source": [
    "import json, re\n",
    "\n",
    "from collections import Counter\n",
    "from operator import itemgetter\n",
    "from sklearn.feature_extraction import DictVectorizer"
   ]
  },
  {
   "cell_type": "code",
   "execution_count": 5,
   "metadata": {
    "collapsed": true
   },
   "outputs": [],
   "source": [
    "TAGS = ['title', 'h1', 'h2', 'h3', 'meta-description', 'meta-keywords',\n",
    "        'img', 'a', 'other']"
   ]
  },
  {
   "cell_type": "code",
   "execution_count": 3,
   "metadata": {
    "collapsed": false
   },
   "outputs": [],
   "source": [
    "def load_processed_data(path):\n",
    "    with open(path, 'r') as infile:\n",
    "        data = list(map(json.loads, infile))\n",
    "        infile.close()\n",
    "        return data\n",
    "\n",
    "path = '../data/processed/extracted_text'\n",
    "data = load_processed_data(path)"
   ]
  },
  {
   "cell_type": "code",
   "execution_count": 26,
   "metadata": {
    "collapsed": false
   },
   "outputs": [
    {
     "name": "stdout",
     "output_type": "stream",
     "text": [
      "Features    (0, 13)\t1.0\n",
      "  (0, 49)\t1.0\n",
      "  (0, 64)\t1.0\n",
      "  (0, 68)\t1.0\n",
      "  (0, 83)\t1.0\n",
      "  (0, 251)\t1.0\n",
      "  (0, 258)\t1.0\n",
      "  (0, 479)\t1.0\n"
     ]
    }
   ],
   "source": [
    "def tokenize(string):\n",
    "    string = re.sub(r'[0-9]', '0', string)\n",
    "    words = re.split(r'\\W+', string)\n",
    "    \n",
    "    return words\n",
    "    \n",
    "def count(texts):\n",
    "    counter = Counter()\n",
    "    \n",
    "    for text in texts:\n",
    "        words = tokenize(text)\n",
    "        counter.update(words)\n",
    "    \n",
    "    return counter\n",
    "\n",
    "def get(tag, items):\n",
    "    for item in items:\n",
    "        yield item[tag] if (tag in item) else []\n",
    "        \n",
    "def sum_up(counts, n):\n",
    "    tags = list(counts)\n",
    "    total = Counter()\n",
    "    \n",
    "    for i in range(n):\n",
    "        words = set()\n",
    "        \n",
    "        for tag in tags:\n",
    "            words.update(set(counts[tag][i]))\n",
    "        \n",
    "        total.update(words)\n",
    "    \n",
    "    return total\n",
    "\n",
    "def vectorize(total, tags, counts_per_tag):\n",
    "    v = DictVectorizer()\n",
    "    v.fit([total]) # because DictVectorizer requires array of dict like objects\n",
    "    \n",
    "    features = {}\n",
    "    \n",
    "    for tag in tags:\n",
    "        features[tag] = v.transform(counts_per_tag[tag])\n",
    "    \n",
    "    print('Features ', features['title'])\n",
    "     \n",
    "def count_words(data):\n",
    "    tags = TAGS + ['boilerplate']\n",
    "    counts_per_tag = {}\n",
    "    \n",
    "    for tag in tags:\n",
    "        counts = list(map(count, get(tag, data)))\n",
    "        counts_per_tag[tag] = counts\n",
    "        \n",
    "    total = sum_up(counts_per_tag, len(data))\n",
    "    vectorize(total, tags, counts_per_tag)\n",
    "    \n",
    "    return total\n",
    "    \n",
    "x = count_words(data[0:1])"
   ]
  },
  {
   "cell_type": "code",
   "execution_count": null,
   "metadata": {
    "collapsed": true
   },
   "outputs": [],
   "source": []
  }
 ],
 "metadata": {
  "anaconda-cloud": {},
  "kernelspec": {
   "display_name": "Python [Root]",
   "language": "python",
   "name": "Python [Root]"
  },
  "language_info": {
   "codemirror_mode": {
    "name": "ipython",
    "version": 3
   },
   "file_extension": ".py",
   "mimetype": "text/x-python",
   "name": "python",
   "nbconvert_exporter": "python",
   "pygments_lexer": "ipython3",
   "version": "3.5.2"
  }
 },
 "nbformat": 4,
 "nbformat_minor": 0
}
