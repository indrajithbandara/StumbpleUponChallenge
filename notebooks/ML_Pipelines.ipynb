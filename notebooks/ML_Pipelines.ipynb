{
 "cells": [
  {
   "cell_type": "markdown",
   "metadata": {},
   "source": [
    "** Objective of the Notebook. **\n",
    "\n",
    "* Learn how to create new pipelines.\n",
    "* Feature Engineering.\n",
    "* Extract text for different tags and weight them differently to introduce some domain knowledge.\n",
    "* Text Mining.\n",
    "* Parse raw html to extract text content and extract features from it."
   ]
  },
  {
   "cell_type": "code",
   "execution_count": 70,
   "metadata": {
    "collapsed": false
   },
   "outputs": [],
   "source": [
    "import numpy as np\n",
    "import pandas as pd\n",
    "import os, sys\n",
    "import re, json\n",
    "\n",
    "import warnings\n",
    "warnings.filterwarnings('ignore')\n",
    "\n",
    "from sklearn.base import BaseEstimator, TransformerMixin\n",
    "from sklearn.preprocessing import FunctionTransformer\n",
    "from sklearn.pipeline import FeatureUnion, Pipeline\n",
    "from sklearn.decomposition import TruncatedSVD\n",
    "from sklearn.linear_model import LogisticRegression\n",
    "from sklearn.feature_extraction.text import ENGLISH_STOP_WORDS\n",
    "from sklearn.feature_extraction.text import TfidfVectorizer\n",
    "from sklearn.preprocessing import StandardScaler\n",
    "from sklearn.feature_selection import f_classif, SelectKBest\n",
    "from sklearn.metrics import roc_auc_score\n",
    "\n",
    "from nltk.stem.snowball import SnowballStemmer\n",
    "from nltk.stem.porter import PorterStemmer\n",
    "\n",
    "from bs4 import BeautifulSoup\n",
    "from collections import defaultdict\n",
    "\n",
    "basepath = os.path.expanduser('~/Desktop/src/Stumbleupon_classification_challenge/')\n",
    "sys.path.append(os.path.join(basepath, 'src'))\n",
    "\n",
    "np.random.seed(2)\n",
    "\n",
    "from data import load_datasets\n",
    "from models import train_test_split, cross_val_scheme"
   ]
  },
  {
   "cell_type": "code",
   "execution_count": 2,
   "metadata": {
    "collapsed": true
   },
   "outputs": [],
   "source": [
    "# intialize Porter Stemmer\n",
    "\n",
    "sns = SnowballStemmer(language='english')\n",
    "por = PorterStemmer()"
   ]
  },
  {
   "cell_type": "code",
   "execution_count": 191,
   "metadata": {
    "collapsed": false
   },
   "outputs": [],
   "source": [
    "# load datasets\n",
    "train, test, sample_sub = load_datasets.load_dataset()"
   ]
  },
  {
   "cell_type": "code",
   "execution_count": 192,
   "metadata": {
    "collapsed": true
   },
   "outputs": [],
   "source": [
    "train['boilerplate'] = list(map(json.loads, train.boilerplate))\n",
    "test['boilerplate'] = list(map(json.loads, test.boilerplate))"
   ]
  },
  {
   "cell_type": "code",
   "execution_count": 193,
   "metadata": {
    "collapsed": false
   },
   "outputs": [],
   "source": [
    "def decompose_boilerplate(boilerplate_json, key='body'):\n",
    "    return [bp[key] if key in bp and bp[key] else u'' for bp in boilerplate_json]\n",
    "    \n",
    "train_body = decompose_boilerplate(train.boilerplate)\n",
    "train_title = decompose_boilerplate(train.boilerplate, key='title')\n",
    "\n",
    "test_body = decompose_boilerplate(test.boilerplate)\n",
    "test_title = decompose_boilerplate(test.boilerplate, 'title')"
   ]
  },
  {
   "cell_type": "code",
   "execution_count": 194,
   "metadata": {
    "collapsed": true
   },
   "outputs": [],
   "source": [
    "train['body'] = train_body\n",
    "train['title'] = train_title\n",
    "\n",
    "test['body'] = test_body\n",
    "test['title'] = test_title"
   ]
  },
  {
   "cell_type": "code",
   "execution_count": 195,
   "metadata": {
    "collapsed": true
   },
   "outputs": [],
   "source": [
    "class Parse():\n",
    "    TAGS = ['h1', 'h2', 'h3', 'h4', 'span',\\\n",
    "            'a', 'label', 'meta-title', 'meta-description','li']\n",
    "    \n",
    "    @staticmethod\n",
    "    def read_html(urlid):\n",
    "        with open(os.path.join(basepath, 'data/raw/raw_content/'+str(urlid)), 'r', encoding='utf-8', errors='ignore') as infile:\n",
    "            html = infile.read()\n",
    "            infile.close()\n",
    "        return html\n",
    "    \n",
    "    @staticmethod\n",
    "    def parse_html(html):\n",
    "        return BeautifulSoup(html, 'lxml')\n",
    "    \n",
    "    @staticmethod\n",
    "    def remove_tags(html, tags):\n",
    "        for tag in tags:\n",
    "            for el in html.find_all(tag):\n",
    "                el.extract()\n",
    "\n",
    "        return html\n",
    " \n",
    "    @staticmethod\n",
    "    def tag_content(html, tag):\n",
    "        def process(s):\n",
    "            s = s.lower()\n",
    "            s = s.strip()\n",
    "            s = re.sub(r'[^a-z0-9]+', ' ', s)\n",
    "            return s\n",
    "\n",
    "        tags_component = tag.split('-')\n",
    "        attrs = {}\n",
    "        \n",
    "        if len(tags_component) > 1:\n",
    "            tag_name = tags_component[0]\n",
    "            attrs['name'] = tags_component[1]\n",
    "        else:\n",
    "            tag_name = tags_component[0]\n",
    "        \n",
    "        for el in html.find_all(tag_name, attrs):\n",
    "            if len(attrs.keys()) > 0:    \n",
    "                return process(el.get('content', ''))\n",
    "            else:\n",
    "                return process(el.text) if el.text else ''        \n",
    "        return '' # could not find the tag\n",
    "        \n",
    "    def __init__(self, key='urlid'):\n",
    "        self.key = key\n",
    "    \n",
    "    def fit(self, X, y=None):\n",
    "        return self\n",
    "    \n",
    "    def transform(self, df):\n",
    "        urlids = df[self.key]\n",
    "        tags_content_dict = defaultdict(list)\n",
    "        \n",
    "        for urlid in urlids.values:\n",
    "            html = self.read_html(urlid)\n",
    "            html = self.parse_html(html)\n",
    "            html = self.remove_tags(html, ['style', 'script'])\n",
    "            \n",
    "            for tag in self.TAGS:\n",
    "                tags_content_dict[tag].append(self.tag_content(html, tag))\n",
    "        \n",
    "        for tag in self.TAGS:\n",
    "            df[tag] = tags_content_dict[tag]\n",
    "        \n",
    "        return df"
   ]
  },
  {
   "cell_type": "code",
   "execution_count": null,
   "metadata": {
    "collapsed": true
   },
   "outputs": [],
   "source": [
    "# parse all the raw content\n",
    "parse_train = Parse()\n",
    "train = parse_train.transform(train)"
   ]
  },
  {
   "cell_type": "code",
   "execution_count": null,
   "metadata": {
    "collapsed": true
   },
   "outputs": [],
   "source": [
    "parse_test = Parse()\n",
    "test = parse_test.transform(test)"
   ]
  },
  {
   "cell_type": "code",
   "execution_count": 162,
   "metadata": {
    "collapsed": true
   },
   "outputs": [],
   "source": [
    "feature_df = train[['body', 'title', 'urlid']]\n",
    "feature_df['label'] = train.label"
   ]
  },
  {
   "cell_type": "code",
   "execution_count": 163,
   "metadata": {
    "collapsed": true
   },
   "outputs": [],
   "source": [
    "features = ['body', 'title', 'urlid']"
   ]
  },
  {
   "cell_type": "code",
   "execution_count": 164,
   "metadata": {
    "collapsed": false
   },
   "outputs": [],
   "source": [
    "params = {\n",
    "    'test_size': 0.2,\n",
    "    'random_state': 2,\n",
    "    'stratify': train.is_news\n",
    "}\n",
    "\n",
    "itrain, itest = train_test_split.tr_ts_split(len(train), **params)\n",
    "\n",
    "X_train = feature_df.iloc[itrain][features]\n",
    "X_test = feature_df.iloc[itest][features]\n",
    "\n",
    "y_train = feature_df.iloc[itrain].label\n",
    "y_test = feature_df.iloc[itest].label"
   ]
  },
  {
   "cell_type": "markdown",
   "metadata": {},
   "source": [
    "** Task **\n",
    "\n",
    "* Text Preprocessing\n",
    "    * Lowercase all the string, remove stopwords, stem the words.\n",
    "* Decompose the boilerplate into body, title and url\n",
    "* Create text features for these parts and weigh them differently."
   ]
  },
  {
   "cell_type": "code",
   "execution_count": 189,
   "metadata": {
    "collapsed": false
   },
   "outputs": [],
   "source": []
  },
  {
   "cell_type": "code",
   "execution_count": null,
   "metadata": {
    "collapsed": true
   },
   "outputs": [],
   "source": [
    "parse_train = Parse()\n",
    "train"
   ]
  },
  {
   "cell_type": "code",
   "execution_count": 184,
   "metadata": {
    "collapsed": true
   },
   "outputs": [],
   "source": [
    "class VarSelect(BaseEstimator, TransformerMixin):\n",
    "    def __init__(self, keys):\n",
    "        self.keys = keys\n",
    "        \n",
    "    def fit(self, X, y=None):\n",
    "        return self\n",
    "    \n",
    "    def transform(self, df):\n",
    "        return df[self.keys]"
   ]
  },
  {
   "cell_type": "code",
   "execution_count": 185,
   "metadata": {
    "collapsed": true
   },
   "outputs": [],
   "source": [
    "class Weights(BaseEstimator, TransformerMixin):\n",
    "    def __init__(self, weight):\n",
    "        self.weight = weight\n",
    "    \n",
    "    def fit(self, X, y=None):\n",
    "        return self\n",
    "    \n",
    "    def transform(self, X):\n",
    "        return self.weight * X"
   ]
  },
  {
   "cell_type": "code",
   "execution_count": 186,
   "metadata": {
    "collapsed": true
   },
   "outputs": [],
   "source": [
    "def remove_stopwords(x):\n",
    "    return ' '.join([word for word in x.split(' ') if word not in ENGLISH_STOP_WORDS])\n",
    "\n",
    "def stem_tokens(x):\n",
    "    return ' '.join([sns.stem(word) for word in x.split(' ')])\n",
    "\n",
    "def preprocess_string(s):\n",
    "    s = s.lower()\n",
    "    stopwords_removed = remove_stopwords(s)\n",
    "    return stem_tokens(stopwords_removed)"
   ]
  },
  {
   "cell_type": "code",
   "execution_count": 187,
   "metadata": {
    "collapsed": false
   },
   "outputs": [],
   "source": [
    "strip_non_words = FunctionTransformer(\n",
    "    lambda x: x.replace(r'^[A-Za-z0-9]+', ' ', regex=True), validate=False)\n",
    "\n",
    "pipeline = Pipeline([\n",
    "            ('strip', strip_non_words),\n",
    "            ('union', FeatureUnion([\n",
    "                    ('raw_content', Pipeline([\n",
    "                        ('var', VarSelect(keys='h1')),\n",
    "                        ('tfidf', TfidfVectorizer(preprocessor=preprocess_string)),\n",
    "                        ('svd', TruncatedSVD(n_components=50))\n",
    "                    ])),\n",
    "                    ('lsa_body', Pipeline([\n",
    "                        ('var', VarSelect(keys='body')),\n",
    "                        ('tfidf', TfidfVectorizer(ngram_range=(1, 2), preprocessor=preprocess_string)),\n",
    "                        ('svd', TruncatedSVD(n_components=100)),\n",
    "                        ('weight', Weights(weight=10))\n",
    "                    ])),\n",
    "                    ('lsa_title', Pipeline([\n",
    "                        ('var', VarSelect(keys='title')),\n",
    "                        ('tfidf', TfidfVectorizer(preprocessor=preprocess_string)),\n",
    "                        ('svd', TruncatedSVD(n_components=50)),\n",
    "                        ('weight', Weights(weight=2))\n",
    "                    ])),\n",
    "                ])),\n",
    "            ('scale', StandardScaler()),\n",
    "            ('feat', SelectKBest(f_classif, k=75)),\n",
    "            ('model', LogisticRegression())\n",
    "        ])"
   ]
  },
  {
   "cell_type": "code",
   "execution_count": 188,
   "metadata": {
    "collapsed": false
   },
   "outputs": [
    {
     "data": {
      "text/plain": [
       "Pipeline(steps=[('strip', FunctionTransformer(accept_sparse=False,\n",
       "          func=<function <lambda> at 0x7f21417627b8>, pass_y=False,\n",
       "          validate=False)), ('union', FeatureUnion(n_jobs=1,\n",
       "       transformer_list=[('raw_content', Pipeline(steps=[('parse', Parse(key='urlid')), ('var', VarSelect(keys='h...ty='l2', random_state=None, solver='liblinear', tol=0.0001,\n",
       "          verbose=0, warm_start=False))])"
      ]
     },
     "execution_count": 188,
     "metadata": {},
     "output_type": "execute_result"
    }
   ],
   "source": [
    "pipeline.fit(X_train.head(100), y_train.head(100))"
   ]
  },
  {
   "cell_type": "markdown",
   "metadata": {},
   "source": [
    "** Private Leaderboard Score: 0.87247 **"
   ]
  },
  {
   "cell_type": "code",
   "execution_count": 20,
   "metadata": {
    "collapsed": false
   },
   "outputs": [
    {
     "name": "stdout",
     "output_type": "stream",
     "text": [
      "ROC AUC score on unseen examples:  0.860505867892\n"
     ]
    }
   ],
   "source": [
    "y_preds = pipeline.predict_proba(X_test)[:, 1]\n",
    "print('ROC AUC score on unseen examples: ', roc_auc_score(y_test, y_preds))"
   ]
  },
  {
   "cell_type": "code",
   "execution_count": 129,
   "metadata": {
    "collapsed": true
   },
   "outputs": [],
   "source": [
    "X = feature_df[features]\n",
    "y = feature_df.label"
   ]
  },
  {
   "cell_type": "code",
   "execution_count": 130,
   "metadata": {
    "collapsed": false
   },
   "outputs": [
    {
     "data": {
      "text/plain": [
       "Pipeline(steps=[('strip', FunctionTransformer(accept_sparse=False,\n",
       "          func=<function <lambda> at 0x7f9789415268>, pass_y=False,\n",
       "          validate=False)), ('union', FeatureUnion(n_jobs=1,\n",
       "       transformer_list=[('lsa_body', Pipeline(steps=[('var', VarSelect(keys='body')), ('tfidf', TfidfVectorizer(...ty='l2', random_state=None, solver='liblinear', tol=0.0001,\n",
       "          verbose=0, warm_start=False))])"
      ]
     },
     "execution_count": 130,
     "metadata": {},
     "output_type": "execute_result"
    }
   ],
   "source": [
    "# train on full dataset\n",
    "pipeline.fit(X, y)"
   ]
  },
  {
   "cell_type": "code",
   "execution_count": 133,
   "metadata": {
    "collapsed": true
   },
   "outputs": [],
   "source": [
    "predictions = pipeline.predict_proba(test[['body', 'title']])[:, 1]"
   ]
  },
  {
   "cell_type": "markdown",
   "metadata": {},
   "source": [
    "### Submission"
   ]
  },
  {
   "cell_type": "code",
   "execution_count": 134,
   "metadata": {
    "collapsed": true
   },
   "outputs": [],
   "source": [
    "sample_sub['label'] = predictions\n",
    "sample_sub.to_csv(os.path.join(basepath, 'submissions/ml_pipeline.csv'), index=False)"
   ]
  },
  {
   "cell_type": "code",
   "execution_count": null,
   "metadata": {
    "collapsed": true
   },
   "outputs": [],
   "source": []
  }
 ],
 "metadata": {
  "anaconda-cloud": {},
  "kernelspec": {
   "display_name": "Python [Root]",
   "language": "python",
   "name": "Python [Root]"
  },
  "language_info": {
   "codemirror_mode": {
    "name": "ipython",
    "version": 3
   },
   "file_extension": ".py",
   "mimetype": "text/x-python",
   "name": "python",
   "nbconvert_exporter": "python",
   "pygments_lexer": "ipython3",
   "version": "3.5.2"
  }
 },
 "nbformat": 4,
 "nbformat_minor": 0
}
